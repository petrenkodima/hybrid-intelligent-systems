{
  "nbformat": 4,
  "nbformat_minor": 0,
  "metadata": {
    "colab": {
      "provenance": [],
      "collapsed_sections": []
    },
    "kernelspec": {
      "name": "python3",
      "display_name": "Python 3"
    },
    "language_info": {
      "name": "python"
    }
  },
  "cells": [
    {
      "cell_type": "code",
      "execution_count": 1,
      "metadata": {
        "id": "LPV-yAg-ysTF",
        "colab": {
          "base_uri": "https://localhost:8080/"
        },
        "outputId": "9e8388fe-d879-4ee6-cb30-a25bd4236865"
      },
      "outputs": [
        {
          "output_type": "stream",
          "name": "stdout",
          "text": [
            "      fixed acidity  volatile acidity  citric acid  residual sugar  chlorides  \\\n",
            "0               7.4             0.700         0.00             1.9      0.076   \n",
            "1               7.8             0.880         0.00             2.6      0.098   \n",
            "2               7.8             0.760         0.04             2.3      0.092   \n",
            "3              11.2             0.280         0.56             1.9      0.075   \n",
            "4               7.4             0.700         0.00             1.9      0.076   \n",
            "...             ...               ...          ...             ...        ...   \n",
            "1594            6.2             0.600         0.08             2.0      0.090   \n",
            "1595            5.9             0.550         0.10             2.2      0.062   \n",
            "1596            6.3             0.510         0.13             2.3      0.076   \n",
            "1597            5.9             0.645         0.12             2.0      0.075   \n",
            "1598            6.0             0.310         0.47             3.6      0.067   \n",
            "\n",
            "      free sulfur dioxide  total sulfur dioxide  density    pH  sulphates  \\\n",
            "0                    11.0                  34.0  0.99780  3.51       0.56   \n",
            "1                    25.0                  67.0  0.99680  3.20       0.68   \n",
            "2                    15.0                  54.0  0.99700  3.26       0.65   \n",
            "3                    17.0                  60.0  0.99800  3.16       0.58   \n",
            "4                    11.0                  34.0  0.99780  3.51       0.56   \n",
            "...                   ...                   ...      ...   ...        ...   \n",
            "1594                 32.0                  44.0  0.99490  3.45       0.58   \n",
            "1595                 39.0                  51.0  0.99512  3.52       0.76   \n",
            "1596                 29.0                  40.0  0.99574  3.42       0.75   \n",
            "1597                 32.0                  44.0  0.99547  3.57       0.71   \n",
            "1598                 18.0                  42.0  0.99549  3.39       0.66   \n",
            "\n",
            "      alcohol  \n",
            "0         9.4  \n",
            "1         9.8  \n",
            "2         9.8  \n",
            "3         9.8  \n",
            "4         9.4  \n",
            "...       ...  \n",
            "1594     10.5  \n",
            "1595     11.2  \n",
            "1596     11.0  \n",
            "1597     10.2  \n",
            "1598     11.0  \n",
            "\n",
            "[1599 rows x 11 columns]\n",
            "0       5\n",
            "1       5\n",
            "2       5\n",
            "3       6\n",
            "4       5\n",
            "       ..\n",
            "1594    5\n",
            "1595    6\n",
            "1596    6\n",
            "1597    5\n",
            "1598    6\n",
            "Name: quality, Length: 1599, dtype: int64\n"
          ]
        }
      ],
      "source": [
        "#1\n",
        "import re\n",
        "import pandas as pd\n",
        "from xml.sax.handler import feature_string_interning\n",
        "from sklearn import datasets\n",
        "\n",
        "df = pd.read_csv('winequality-red.csv')\n",
        "\n",
        "feature_names = df.columns.values\n",
        "target_names = [\"3\", \"4\", \"5\", \"6\", \"7\", \"8\"]\n",
        "\n",
        "Predictors = df.drop(\"quality\", axis = 1)\n",
        "y = df[\"quality\"]\n",
        "print(Predictors)\n",
        "print(y)"
      ]
    },
    {
      "cell_type": "code",
      "source": [
        "#2\n",
        "from sklearn.tree import DecisionTreeClassifier\n",
        "from sklearn.metrics import accuracy_score\n",
        "\n",
        "max_depth = 3\n",
        "model = DecisionTreeClassifier(max_depth = max_depth)\n",
        "model.fit(Predictors, y)\n",
        "pred = model.predict(Predictors)\n",
        "print(accuracy_score(y, pred))"
      ],
      "metadata": {
        "id": "4ndnjc-QzSAR",
        "colab": {
          "base_uri": "https://localhost:8080/"
        },
        "outputId": "c3a0514f-60f6-4a49-9db6-53bc9e1801c5"
      },
      "execution_count": 2,
      "outputs": [
        {
          "output_type": "stream",
          "name": "stdout",
          "text": [
            "0.5784865540963102\n"
          ]
        }
      ]
    },
    {
      "cell_type": "code",
      "source": [
        "#3\n",
        "from sklearn import tree\n",
        "from matplotlib import pyplot as plt\n",
        "\n",
        "fig = plt.figure(figsize=(25, 20))\n",
        "tree.plot_tree(model, feature_names=feature_names, class_names=target_names)\n",
        "fig.savefig('tree.png')\n",
        "fig.show"
      ],
      "metadata": {
        "id": "zGpLJNS1zVCJ",
        "colab": {
          "base_uri": "https://localhost:8080/",
          "height": 838
        },
        "outputId": "03c7f147-f16c-49af-f585-747470cca920"
      },
      "execution_count": 3,
      "outputs": [
        {
          "output_type": "execute_result",
          "data": {
            "text/plain": [
              "<bound method Figure.show of <Figure size 1800x1440 with 1 Axes>>"
            ]
          },
          "metadata": {},
          "execution_count": 3
        },
        {
          "output_type": "display_data",
          "data": {
            "text/plain": [
              "<Figure size 1800x1440 with 1 Axes>"
            ],
            "image/png": "[encoded data removed]"
          },
          "metadata": {
            "needs_background": "light"
          }
        }
      ]
    },
    {
      "cell_type": "code",
      "source": [
        "#4 \n",
        "\n",
        "from joblib import dump\n",
        "\n",
        "dump(model, 'tree.joblib')"
      ],
      "metadata": {
        "colab": {
          "base_uri": "https://localhost:8080/"
        },
        "id": "0JSc-0LXI51j",
        "outputId": "08a432b1-2153-4356-f140-7bc51c27fc80"
      },
      "execution_count": 4,
      "outputs": [
        {
          "output_type": "execute_result",
          "data": {
            "text/plain": [
              "['tree.joblib']"
            ]
          },
          "metadata": {},
          "execution_count": 4
        }
      ]
    },
    {
      "cell_type": "code",
      "source": [
        "#5 Datalog\n",
        "\n",
        "!pip install pyDatalog\n",
        "\n",
        "from pyDatalog import pyDatalog"
      ],
      "metadata": {
        "id": "tFOo3rYFza61",
        "colab": {
          "base_uri": "https://localhost:8080/"
        },
        "outputId": "347773d0-89c2-4c75-fa40-90727db5606c"
      },
      "execution_count": 5,
      "outputs": [
        {
          "output_type": "stream",
          "name": "stdout",
          "text": [
            "Looking in indexes: https://pypi.org/simple, https://us-python.pkg.dev/colab-wheels/public/simple/\n",
            "Requirement already satisfied: pyDatalog in /usr/local/lib/python3.7/dist-packages (0.17.1)\n"
          ]
        }
      ]
    },
    {
      "cell_type": "code",
      "source": [
        "# #6\n",
        "# print(V==1)"
      ],
      "metadata": {
        "id": "cCi2-byuza3p"
      },
      "execution_count": 6,
      "outputs": []
    },
    {
      "cell_type": "code",
      "source": [
        "# #7\n",
        "# print((V==1) & (U==2))"
      ],
      "metadata": {
        "id": "Z_uKO7Ikzay6"
      },
      "execution_count": 7,
      "outputs": []
    },
    {
      "cell_type": "code",
      "source": [
        "# #8\n",
        "# grade['student1'] = 5\n",
        "# grade['student2'] = 2\n",
        "# print(grade[U] == V)"
      ],
      "metadata": {
        "id": "1s1noFnKzawS"
      },
      "execution_count": 8,
      "outputs": []
    },
    {
      "cell_type": "code",
      "source": [
        "# #9\n",
        "# (credit[U] == True) <= (grade[U] >= 3)\n",
        "# print(credit[U] == V)"
      ],
      "metadata": {
        "id": "_IPfNCUfzatR"
      },
      "execution_count": 9,
      "outputs": []
    },
    {
      "cell_type": "code",
      "source": [
        "#10\n",
        "pyDatalog.create_terms('X, Y, alcohol, sulphates, volatile_acidity, total_sulfur_dioxide, label')"
      ],
      "metadata": {
        "id": "fIJfoZHPzap9"
      },
      "execution_count": 10,
      "outputs": []
    },
    {
      "cell_type": "code",
      "source": [
        "#11\n",
        "(label[X] == '5') <= (alcohol[X] <= 10.25)\n",
        "(label[X] == '6') <=  (alcohol[X] > 10.25) & (alcohol[X] <= 11.55)\n",
        "(label[X] == '6') <= (alcohol[X] > 11.55) & (sulphates[X] <= 0.685)\n",
        "(label[X] == '7') <= (alcohol[X] > 11.55) & (sulphates[X] > 0.685)"
      ],
      "metadata": {
        "id": "vQ0-NvAkzam7",
        "colab": {
          "base_uri": "https://localhost:8080/"
        },
        "outputId": "54492e11-e571-4cc2-ac7d-8deb892ca951"
      },
      "execution_count": 11,
      "outputs": [
        {
          "output_type": "execute_result",
          "data": {
            "text/plain": [
              "label[1]==(*,X,'7') <= alcohol[1]>(*,X,'11.55')&su"
            ]
          },
          "metadata": {},
          "execution_count": 11
        }
      ]
    },
    {
      "cell_type": "code",
      "source": [
        "#12\n",
        "# Test 1 (5)\n",
        "alcohol[0] = 2\n",
        "sulphates[0] = 22\n",
        "print(label[0] == X, end='\\n\\n')\n",
        "\n",
        "# Test 2 (6)\n",
        "alcohol[1] = 11\n",
        "sulphates[1] = 70\n",
        "print(label[1] == X, end='\\n\\n')\n",
        "\n",
        "# Test 3 (6)\n",
        "alcohol[2] = 21\n",
        "sulphates[2] = 0\n",
        "print(label[2] == X, end='\\n\\n')\n",
        "\n",
        "# Test 4 (7)\n",
        "alcohol[3] = 20\n",
        "sulphates[3] = 21\n",
        "print(label[3] == X, end='\\n\\n')"
      ],
      "metadata": {
        "colab": {
          "base_uri": "https://localhost:8080/"
        },
        "id": "1jFdmtO5o6GK",
        "outputId": "a352d735-4f3d-420e-f813-6a8bcc1a51ef"
      },
      "execution_count": 12,
      "outputs": [
        {
          "output_type": "stream",
          "name": "stdout",
          "text": [
            "X\n",
            "-\n",
            "5\n",
            "\n",
            "X\n",
            "-\n",
            "6\n",
            "\n",
            "X\n",
            "-\n",
            "6\n",
            "\n",
            "X\n",
            "-\n",
            "7\n",
            "\n"
          ]
        }
      ]
    },
    {
      "cell_type": "code",
      "source": [
        "#12\n",
        "volatile_acidity[0] = 0.7\n",
        "total_sulfur_dioxide[0] = 34.0\n",
        "sulphates[0] = 0.56\n",
        "alcohol[0] = 9.4"
      ],
      "metadata": {
        "id": "AhAAeHizzag7"
      },
      "execution_count": 13,
      "outputs": []
    },
    {
      "cell_type": "code",
      "source": [
        "#13\n",
        "\n",
        "from joblib import load\n",
        "import sklearn\n",
        "\n",
        "model = load('tree.joblib')\n",
        "classes = model.classes_\n",
        "tree = model.tree_\n",
        "\n",
        "n_nodes = tree.node_count\n",
        "children_left = tree.children_left\n",
        "children_right = tree.children_right\n",
        "feature = tree.feature\n",
        "threshold = tree.threshold\n",
        "value = tree.value"
      ],
      "metadata": {
        "id": "dpQGhO6tzZm9"
      },
      "execution_count": 14,
      "outputs": []
    },
    {
      "cell_type": "code",
      "source": [
        "#14\n",
        "def get_paths(paths):\n",
        "    for path in paths:\n",
        "        left = children_left[path[-1]]\n",
        "        right = children_right[path[-1]]\n",
        "        if left != right:\n",
        "            paths.remove(path)\n",
        "            paths.append(path + [left])\n",
        "            paths.append(path + [right])\n",
        "            #paths.append([right])\n",
        "            get_paths(paths)\n",
        "    return paths\n",
        "\n",
        "paths = [[0]]\n",
        "paths = get_paths(paths)\n",
        "paths"
      ],
      "metadata": {
        "id": "KPf-Lb6_zo5B",
        "colab": {
          "base_uri": "https://localhost:8080/"
        },
        "outputId": "a29cf6e5-aa86-48b1-af7c-691a4c604ea8"
      },
      "execution_count": 15,
      "outputs": [
        {
          "output_type": "execute_result",
          "data": {
            "text/plain": [
              "[[0, 1, 2, 3],\n",
              " [0, 1, 2, 4],\n",
              " [0, 1, 5, 6],\n",
              " [0, 1, 5, 7],\n",
              " [0, 8, 9, 10],\n",
              " [0, 8, 9, 11],\n",
              " [0, 8, 12, 13],\n",
              " [0, 8, 12, 14]]"
            ]
          },
          "metadata": {},
          "execution_count": 15
        }
      ]
    },
    {
      "cell_type": "code",
      "source": [
        "#15\n",
        "rules = []\n",
        "for path in paths:\n",
        "    conjuncts = []\n",
        "    for i in range(len(path)):\n",
        "        node = path[i]\n",
        "        if node == path[-1]:\n",
        "            samples = list(value[node][0])\n",
        "            label = samples.index(max(samples))\n",
        "        else:\n",
        "            conjunct = {'feature': feature[node], \n",
        "                       'threshold': round(threshold[node], 2)}\n",
        "            child = path[i + 1]\n",
        "            if child in children_left:\n",
        "                conjunct['comparison'] = '<='\n",
        "            else:\n",
        "                conjunct['comparison'] = '>'\n",
        "            conjuncts.append(conjunct)\n",
        "    rules.append({'label': label, 'conjuncts': conjuncts})\n",
        "\n",
        "rules"
      ],
      "metadata": {
        "id": "SSjLOAmfzo2P",
        "colab": {
          "base_uri": "https://localhost:8080/"
        },
        "outputId": "2247bda3-487a-4a01-85d2-3f92e2453270"
      },
      "execution_count": 16,
      "outputs": [
        {
          "output_type": "execute_result",
          "data": {
            "text/plain": [
              "[{'label': 2,\n",
              "  'conjuncts': [{'feature': 10, 'threshold': 10.25, 'comparison': '<='},\n",
              "   {'feature': 9, 'threshold': 0.57, 'comparison': '<='},\n",
              "   {'feature': 6, 'threshold': 98.5, 'comparison': '<='}]},\n",
              " {'label': 2,\n",
              "  'conjuncts': [{'feature': 10, 'threshold': 10.25, 'comparison': '<='},\n",
              "   {'feature': 9, 'threshold': 0.57, 'comparison': '<='},\n",
              "   {'feature': 6, 'threshold': 98.5, 'comparison': '>'}]},\n",
              " {'label': 2,\n",
              "  'conjuncts': [{'feature': 10, 'threshold': 10.25, 'comparison': '<='},\n",
              "   {'feature': 9, 'threshold': 0.57, 'comparison': '>'},\n",
              "   {'feature': 6, 'threshold': 81.5, 'comparison': '<='}]},\n",
              " {'label': 2,\n",
              "  'conjuncts': [{'feature': 10, 'threshold': 10.25, 'comparison': '<='},\n",
              "   {'feature': 9, 'threshold': 0.57, 'comparison': '>'},\n",
              "   {'feature': 6, 'threshold': 81.5, 'comparison': '>'}]},\n",
              " {'label': 3,\n",
              "  'conjuncts': [{'feature': 10, 'threshold': 10.25, 'comparison': '>'},\n",
              "   {'feature': 10, 'threshold': 11.55, 'comparison': '<='},\n",
              "   {'feature': 1, 'threshold': 0.38, 'comparison': '<='}]},\n",
              " {'label': 3,\n",
              "  'conjuncts': [{'feature': 10, 'threshold': 10.25, 'comparison': '>'},\n",
              "   {'feature': 10, 'threshold': 11.55, 'comparison': '<='},\n",
              "   {'feature': 1, 'threshold': 0.38, 'comparison': '>'}]},\n",
              " {'label': 3,\n",
              "  'conjuncts': [{'feature': 10, 'threshold': 10.25, 'comparison': '>'},\n",
              "   {'feature': 10, 'threshold': 11.55, 'comparison': '>'},\n",
              "   {'feature': 9, 'threshold': 0.69, 'comparison': '<='}]},\n",
              " {'label': 4,\n",
              "  'conjuncts': [{'feature': 10, 'threshold': 10.25, 'comparison': '>'},\n",
              "   {'feature': 10, 'threshold': 11.55, 'comparison': '>'},\n",
              "   {'feature': 9, 'threshold': 0.69, 'comparison': '>'}]}]"
            ]
          },
          "metadata": {},
          "execution_count": 16
        }
      ]
    },
    {
      "cell_type": "code",
      "source": [
        "#16\n",
        "from sklearn import datasets\n",
        "\n",
        "def format_name(name):\n",
        "    name = str(name)\n",
        "    name = name.replace(' ', '_')\n",
        "    name = name.replace('(', '')\n",
        "    name = name.replace(')', '')\n",
        "    return name\n",
        "\n",
        "feature_names = [format_name(x) for x in feature_names]\n",
        "target_names = [f\"'{x}'\" for x in target_names]\n",
        "print(feature_names)\n",
        "print(target_names)"
      ],
      "metadata": {
        "id": "euPfyv2Uzoze",
        "colab": {
          "base_uri": "https://localhost:8080/"
        },
        "outputId": "2c8a0c31-c1f3-472b-a770-739cc8abcd86"
      },
      "execution_count": 17,
      "outputs": [
        {
          "output_type": "stream",
          "name": "stdout",
          "text": [
            "['fixed_acidity', 'volatile_acidity', 'citric_acid', 'residual_sugar', 'chlorides', 'free_sulfur_dioxide', 'total_sulfur_dioxide', 'density', 'pH', 'sulphates', 'alcohol', 'quality']\n",
            "[\"'3'\", \"'4'\", \"'5'\", \"'6'\", \"'7'\", \"'8'\"]\n"
          ]
        }
      ]
    },
    {
      "cell_type": "code",
      "source": [
        "#17\n",
        "tmplts = []\n",
        "for rule in rules:\n",
        "    label = target_names[rule['label']]\n",
        "    tmplt_label = f'(label[X] == {label})'\n",
        "    conjuncts = rule['conjuncts']\n",
        "    if conjuncts:\n",
        "        conditions = []\n",
        "        for conjunct in conjuncts:\n",
        "            feature_name = feature_names[conjunct['feature']]\n",
        "            conditions.append(f'({feature_name}[X] {conjunct[\"comparison\"]} {conjunct[\"threshold\"]})')\n",
        "            tmplt_condition = ' & '.join(conditions)\n",
        "            tmplts.append(f'{tmplt_label} <= {tmplt_condition}')\n",
        "        else:\n",
        "            tmplts.append(tmplt_label)\n",
        "\n",
        "tmplts"
      ],
      "metadata": {
        "id": "nSSHe-sAzowf",
        "colab": {
          "base_uri": "https://localhost:8080/"
        },
        "outputId": "e9651cfe-5cbb-42d3-96f2-39ebd28bef31"
      },
      "execution_count": 18,
      "outputs": [
        {
          "output_type": "execute_result",
          "data": {
            "text/plain": [
              "[\"(label[X] == '5') <= (alcohol[X] <= 10.25)\",\n",
              " \"(label[X] == '5') <= (alcohol[X] <= 10.25) & (sulphates[X] <= 0.57)\",\n",
              " \"(label[X] == '5') <= (alcohol[X] <= 10.25) & (sulphates[X] <= 0.57) & (total_sulfur_dioxide[X] <= 98.5)\",\n",
              " \"(label[X] == '5')\",\n",
              " \"(label[X] == '5') <= (alcohol[X] <= 10.25)\",\n",
              " \"(label[X] == '5') <= (alcohol[X] <= 10.25) & (sulphates[X] <= 0.57)\",\n",
              " \"(label[X] == '5') <= (alcohol[X] <= 10.25) & (sulphates[X] <= 0.57) & (total_sulfur_dioxide[X] > 98.5)\",\n",
              " \"(label[X] == '5')\",\n",
              " \"(label[X] == '5') <= (alcohol[X] <= 10.25)\",\n",
              " \"(label[X] == '5') <= (alcohol[X] <= 10.25) & (sulphates[X] > 0.57)\",\n",
              " \"(label[X] == '5') <= (alcohol[X] <= 10.25) & (sulphates[X] > 0.57) & (total_sulfur_dioxide[X] <= 81.5)\",\n",
              " \"(label[X] == '5')\",\n",
              " \"(label[X] == '5') <= (alcohol[X] <= 10.25)\",\n",
              " \"(label[X] == '5') <= (alcohol[X] <= 10.25) & (sulphates[X] > 0.57)\",\n",
              " \"(label[X] == '5') <= (alcohol[X] <= 10.25) & (sulphates[X] > 0.57) & (total_sulfur_dioxide[X] > 81.5)\",\n",
              " \"(label[X] == '5')\",\n",
              " \"(label[X] == '6') <= (alcohol[X] > 10.25)\",\n",
              " \"(label[X] == '6') <= (alcohol[X] > 10.25) & (alcohol[X] <= 11.55)\",\n",
              " \"(label[X] == '6') <= (alcohol[X] > 10.25) & (alcohol[X] <= 11.55) & (volatile_acidity[X] <= 0.38)\",\n",
              " \"(label[X] == '6')\",\n",
              " \"(label[X] == '6') <= (alcohol[X] > 10.25)\",\n",
              " \"(label[X] == '6') <= (alcohol[X] > 10.25) & (alcohol[X] <= 11.55)\",\n",
              " \"(label[X] == '6') <= (alcohol[X] > 10.25) & (alcohol[X] <= 11.55) & (volatile_acidity[X] > 0.38)\",\n",
              " \"(label[X] == '6')\",\n",
              " \"(label[X] == '6') <= (alcohol[X] > 10.25)\",\n",
              " \"(label[X] == '6') <= (alcohol[X] > 10.25) & (alcohol[X] > 11.55)\",\n",
              " \"(label[X] == '6') <= (alcohol[X] > 10.25) & (alcohol[X] > 11.55) & (sulphates[X] <= 0.69)\",\n",
              " \"(label[X] == '6')\",\n",
              " \"(label[X] == '7') <= (alcohol[X] > 10.25)\",\n",
              " \"(label[X] == '7') <= (alcohol[X] > 10.25) & (alcohol[X] > 11.55)\",\n",
              " \"(label[X] == '7') <= (alcohol[X] > 10.25) & (alcohol[X] > 11.55) & (sulphates[X] > 0.69)\",\n",
              " \"(label[X] == '7')\"]"
            ]
          },
          "metadata": {},
          "execution_count": 18
        }
      ]
    },
    {
      "cell_type": "code",
      "source": [
        "#18\n",
        "feature_indices = [x for x in set(feature) if x>= 0]\n",
        "predicates = ', '.join([feature_names[x] for x in  feature_indices])\n",
        "pyDatalog.create_terms('X, Y, label, ' + predicates)"
      ],
      "metadata": {
        "id": "Pjtvsnhfzotw"
      },
      "execution_count": 19,
      "outputs": []
    },
    {
      "cell_type": "code",
      "source": [
        "#19\n",
        "tmplts.reverse()\n",
        "knowledge = \"\"\"\\n\"\"\".join(tmplts)\n",
        "print(knowledge)\n",
        "pyDatalog.load(\"\"\" \n",
        "\"\"\" + knowledge + \"\"\" \n",
        "\"\"\")\n",
        "print(knowledge)"
      ],
      "metadata": {
        "id": "mie7A3ZRzorC",
        "colab": {
          "base_uri": "https://localhost:8080/"
        },
        "outputId": "1a24848e-131f-43dc-cbdd-c4f8695e908e"
      },
      "execution_count": 20,
      "outputs": [
        {
          "output_type": "stream",
          "name": "stdout",
          "text": [
            "(label[X] == '7')\n",
            "(label[X] == '7') <= (alcohol[X] > 10.25) & (alcohol[X] > 11.55) & (sulphates[X] > 0.69)\n",
            "(label[X] == '7') <= (alcohol[X] > 10.25) & (alcohol[X] > 11.55)\n",
            "(label[X] == '7') <= (alcohol[X] > 10.25)\n",
            "(label[X] == '6')\n",
            "(label[X] == '6') <= (alcohol[X] > 10.25) & (alcohol[X] > 11.55) & (sulphates[X] <= 0.69)\n",
            "(label[X] == '6') <= (alcohol[X] > 10.25) & (alcohol[X] > 11.55)\n",
            "(label[X] == '6') <= (alcohol[X] > 10.25)\n",
            "(label[X] == '6')\n",
            "(label[X] == '6') <= (alcohol[X] > 10.25) & (alcohol[X] <= 11.55) & (volatile_acidity[X] > 0.38)\n",
            "(label[X] == '6') <= (alcohol[X] > 10.25) & (alcohol[X] <= 11.55)\n",
            "(label[X] == '6') <= (alcohol[X] > 10.25)\n",
            "(label[X] == '6')\n",
            "(label[X] == '6') <= (alcohol[X] > 10.25) & (alcohol[X] <= 11.55) & (volatile_acidity[X] <= 0.38)\n",
            "(label[X] == '6') <= (alcohol[X] > 10.25) & (alcohol[X] <= 11.55)\n",
            "(label[X] == '6') <= (alcohol[X] > 10.25)\n",
            "(label[X] == '5')\n",
            "(label[X] == '5') <= (alcohol[X] <= 10.25) & (sulphates[X] > 0.57) & (total_sulfur_dioxide[X] > 81.5)\n",
            "(label[X] == '5') <= (alcohol[X] <= 10.25) & (sulphates[X] > 0.57)\n",
            "(label[X] == '5') <= (alcohol[X] <= 10.25)\n",
            "(label[X] == '5')\n",
            "(label[X] == '5') <= (alcohol[X] <= 10.25) & (sulphates[X] > 0.57) & (total_sulfur_dioxide[X] <= 81.5)\n",
            "(label[X] == '5') <= (alcohol[X] <= 10.25) & (sulphates[X] > 0.57)\n",
            "(label[X] == '5') <= (alcohol[X] <= 10.25)\n",
            "(label[X] == '5')\n",
            "(label[X] == '5') <= (alcohol[X] <= 10.25) & (sulphates[X] <= 0.57) & (total_sulfur_dioxide[X] > 98.5)\n",
            "(label[X] == '5') <= (alcohol[X] <= 10.25) & (sulphates[X] <= 0.57)\n",
            "(label[X] == '5') <= (alcohol[X] <= 10.25)\n",
            "(label[X] == '5')\n",
            "(label[X] == '5') <= (alcohol[X] <= 10.25) & (sulphates[X] <= 0.57) & (total_sulfur_dioxide[X] <= 98.5)\n",
            "(label[X] == '5') <= (alcohol[X] <= 10.25) & (sulphates[X] <= 0.57)\n",
            "(label[X] == '5') <= (alcohol[X] <= 10.25)\n",
            "(label[X] == '7')\n",
            "(label[X] == '7') <= (alcohol[X] > 10.25) & (alcohol[X] > 11.55) & (sulphates[X] > 0.69)\n",
            "(label[X] == '7') <= (alcohol[X] > 10.25) & (alcohol[X] > 11.55)\n",
            "(label[X] == '7') <= (alcohol[X] > 10.25)\n",
            "(label[X] == '6')\n",
            "(label[X] == '6') <= (alcohol[X] > 10.25) & (alcohol[X] > 11.55) & (sulphates[X] <= 0.69)\n",
            "(label[X] == '6') <= (alcohol[X] > 10.25) & (alcohol[X] > 11.55)\n",
            "(label[X] == '6') <= (alcohol[X] > 10.25)\n",
            "(label[X] == '6')\n",
            "(label[X] == '6') <= (alcohol[X] > 10.25) & (alcohol[X] <= 11.55) & (volatile_acidity[X] > 0.38)\n",
            "(label[X] == '6') <= (alcohol[X] > 10.25) & (alcohol[X] <= 11.55)\n",
            "(label[X] == '6') <= (alcohol[X] > 10.25)\n",
            "(label[X] == '6')\n",
            "(label[X] == '6') <= (alcohol[X] > 10.25) & (alcohol[X] <= 11.55) & (volatile_acidity[X] <= 0.38)\n",
            "(label[X] == '6') <= (alcohol[X] > 10.25) & (alcohol[X] <= 11.55)\n",
            "(label[X] == '6') <= (alcohol[X] > 10.25)\n",
            "(label[X] == '5')\n",
            "(label[X] == '5') <= (alcohol[X] <= 10.25) & (sulphates[X] > 0.57) & (total_sulfur_dioxide[X] > 81.5)\n",
            "(label[X] == '5') <= (alcohol[X] <= 10.25) & (sulphates[X] > 0.57)\n",
            "(label[X] == '5') <= (alcohol[X] <= 10.25)\n",
            "(label[X] == '5')\n",
            "(label[X] == '5') <= (alcohol[X] <= 10.25) & (sulphates[X] > 0.57) & (total_sulfur_dioxide[X] <= 81.5)\n",
            "(label[X] == '5') <= (alcohol[X] <= 10.25) & (sulphates[X] > 0.57)\n",
            "(label[X] == '5') <= (alcohol[X] <= 10.25)\n",
            "(label[X] == '5')\n",
            "(label[X] == '5') <= (alcohol[X] <= 10.25) & (sulphates[X] <= 0.57) & (total_sulfur_dioxide[X] > 98.5)\n",
            "(label[X] == '5') <= (alcohol[X] <= 10.25) & (sulphates[X] <= 0.57)\n",
            "(label[X] == '5') <= (alcohol[X] <= 10.25)\n",
            "(label[X] == '5')\n",
            "(label[X] == '5') <= (alcohol[X] <= 10.25) & (sulphates[X] <= 0.57) & (total_sulfur_dioxide[X] <= 98.5)\n",
            "(label[X] == '5') <= (alcohol[X] <= 10.25) & (sulphates[X] <= 0.57)\n",
            "(label[X] == '5') <= (alcohol[X] <= 10.25)\n"
          ]
        }
      ]
    },
    {
      "cell_type": "code",
      "source": [
        "#20\n",
        "x = 0 \n",
        "row = Predictors.iloc[x]\n",
        "for i in feature_indices:\n",
        "    fact = f'{feature_names[i]}[{x}] = {row[i]}'\n",
        "    print(fact)\n",
        "    exec(fact)"
      ],
      "metadata": {
        "id": "9xpQVI34zooK",
        "colab": {
          "base_uri": "https://localhost:8080/"
        },
        "outputId": "0fd7be7a-9c06-4810-a936-3a1da1024e40"
      },
      "execution_count": 21,
      "outputs": [
        {
          "output_type": "stream",
          "name": "stdout",
          "text": [
            "volatile_acidity[0] = 0.7\n",
            "total_sulfur_dioxide[0] = 34.0\n",
            "sulphates[0] = 0.56\n",
            "alcohol[0] = 9.4\n"
          ]
        }
      ]
    },
    {
      "cell_type": "code",
      "source": [
        "#21\n",
        "print(pyDatalog.ask('label[X] == Y'))"
      ],
      "metadata": {
        "id": "D33tkomZzokm",
        "colab": {
          "base_uri": "https://localhost:8080/"
        },
        "outputId": "90562100-6f31-4859-e003-014da0e28737"
      },
      "execution_count": 22,
      "outputs": [
        {
          "output_type": "stream",
          "name": "stdout",
          "text": [
            "{(0, '5'), (1, '6'), (2, '6'), (3, '6')}\n"
          ]
        }
      ]
    }
  ]
}