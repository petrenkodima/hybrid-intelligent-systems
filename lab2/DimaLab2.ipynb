{
  "nbformat": 4,
  "nbformat_minor": 0,
  "metadata": {
    "colab": {
      "provenance": [],
      "collapsed_sections": []
    },
    "kernelspec": {
      "name": "python3",
      "display_name": "Python 3"
    },
    "language_info": {
      "name": "python"
    }
  },
  "cells": [
    {
      "cell_type": "code",
      "execution_count": 1,
      "metadata": {
        "id": "FU20FwF8sCgi",
        "colab": {
          "base_uri": "https://localhost:8080/"
        },
        "outputId": "870683c3-87a3-4fff-8f05-b4f8f0d5120d"
      },
      "outputs": [
        {
          "output_type": "stream",
          "name": "stdout",
          "text": [
            "<class 'pandas.core.frame.DataFrame'>\n",
            "RangeIndex: 400 entries, 0 to 399\n",
            "Data columns (total 8 columns):\n",
            " #   Column             Non-Null Count  Dtype  \n",
            "---  ------             --------------  -----  \n",
            " 0   GRE_Score          400 non-null    int64  \n",
            " 1   TOEFL_Score        400 non-null    int64  \n",
            " 2   University_Rating  400 non-null    int64  \n",
            " 3   SOP                400 non-null    float64\n",
            " 4   LOR_               400 non-null    float64\n",
            " 5   CGPA               400 non-null    float64\n",
            " 6   Research           400 non-null    int64  \n",
            " 7   Chance_of_Admit_   400 non-null    float64\n",
            "dtypes: float64(4), int64(4)\n",
            "memory usage: 25.1 KB\n"
          ]
        }
      ],
      "source": [
        "from sklearn.datasets import load_wine\n",
        "import pandas as pd\n",
        "\n",
        "X = pd.read_csv('adm_data.csv').drop('Serial No.', axis=1)\n",
        "X.columns = X.columns.str.replace(' ', '_')\n",
        "X.info()"
      ]
    },
    {
      "cell_type": "code",
      "source": [
        "from sklearn.preprocessing import StandardScaler\n",
        "\n",
        "scaler = StandardScaler()\n",
        "X_stand = scaler.fit_transform(X)\n",
        "X_stand[0]"
      ],
      "metadata": {
        "colab": {
          "base_uri": "https://localhost:8080/"
        },
        "id": "XXEX1AoXtc2a",
        "outputId": "e4bc3e5c-e078-4b60-ce63-d28d002796d6"
      },
      "execution_count": 2,
      "outputs": [
        {
          "output_type": "execute_result",
          "data": {
            "text/plain": [
              "array([1.76210664, 1.74697064, 0.79882862, 1.09386422, 1.16732114,\n",
              "       1.76481828, 0.90911166, 1.37364801])"
            ]
          },
          "metadata": {},
          "execution_count": 2
        }
      ]
    },
    {
      "cell_type": "code",
      "source": [
        "from sklearn.decomposition import PCA\n",
        "from matplotlib import pyplot as plt\n",
        "\n",
        "pca = PCA(n_components = 2)\n",
        "X_trans = pca.fit_transform(X_stand)\n",
        "plt.scatter(X_trans[:,0], X_trans[:,1])\n",
        "plt.show()"
      ],
      "metadata": {
        "colab": {
          "base_uri": "https://localhost:8080/",
          "height": 265
        },
        "id": "-9sP9WlQtfak",
        "outputId": "9be5b930-3155-4033-9dbc-a8882b81f3ce"
      },
      "execution_count": 3,
      "outputs": [
        {
          "output_type": "display_data",
          "data": {
            "text/plain": [
              "<Figure size 432x288 with 1 Axes>"
            ],
            "image/png": "[encoded data removed]"
          },
          "metadata": {
            "needs_background": "light"
          }
        }
      ]
    },
    {
      "cell_type": "code",
      "source": [
        "import numpy as np\n",
        "from sklearn.tree import DecisionTreeClassifier\n",
        "from sklearn.metrics import silhouette_score\n",
        "\n",
        "n = len(X)\n",
        "labels = range(0, n)\n",
        "scores = []\n",
        "for i in np.arange(0.05, 1, 0.05):\n",
        "  model = DecisionTreeClassifier(criterion='entropy', min_impurity_decrease=i)\n",
        "  model.fit(X, labels)\n",
        "  labels = model.apply(X)\n",
        "  sil = silhouette_score(X_stand, labels)\n",
        "  scores.append({'param': round(i,2), 'score': round(sil, 4)})\n",
        "\n",
        "scores[:5]\n"
      ],
      "metadata": {
        "colab": {
          "base_uri": "https://localhost:8080/"
        },
        "id": "gUFUrKAMthNn",
        "outputId": "07afce78-0e62-4480-97fe-371beab7422b"
      },
      "execution_count": 4,
      "outputs": [
        {
          "output_type": "execute_result",
          "data": {
            "text/plain": [
              "[{'param': 0.05, 'score': -0.0825},\n",
              " {'param': 0.1, 'score': -0.0291},\n",
              " {'param': 0.15, 'score': 0.0502},\n",
              " {'param': 0.2, 'score': 0.0502},\n",
              " {'param': 0.25, 'score': 0.0553}]"
            ]
          },
          "metadata": {},
          "execution_count": 4
        }
      ]
    },
    {
      "cell_type": "code",
      "source": [
        "from matplotlib import pyplot as plt\n",
        "\n",
        "param_list = [x['param'] for x in scores]\n",
        "score_list = [x['score'] for x in scores]\n",
        "\n",
        "fig = plt.figure()\n",
        "ax = fig.add_subplot()\n",
        "ax.set_ylabel('Silhouette')\n",
        "ax.set_xlabel('Minimum inpurity gain')\n",
        "plt.plot(param_list, score_list, label = 'score')\n",
        "ax.legend()\n",
        "plt.show()"
      ],
      "metadata": {
        "colab": {
          "base_uri": "https://localhost:8080/",
          "height": 279
        },
        "id": "ukwnUSettjK9",
        "outputId": "c3c27159-fccb-40e1-b21c-35d0bfe11004"
      },
      "execution_count": 5,
      "outputs": [
        {
          "output_type": "display_data",
          "data": {
            "text/plain": [
              "<Figure size 432x288 with 1 Axes>"
            ],
            "image/png": "[encoded data removed]"
          },
          "metadata": {
            "needs_background": "light"
          }
        }
      ]
    },
    {
      "cell_type": "code",
      "source": [
        "scores[0]['diff'] = 0\n",
        "for i, score in enumerate(scores):\n",
        "  if i == 0:\n",
        "    continue\n",
        "  score['diff'] = score['score'] - scores[i-1]['score']\n",
        "scores[:5]"
      ],
      "metadata": {
        "colab": {
          "base_uri": "https://localhost:8080/"
        },
        "id": "GzOy0qHbtk_V",
        "outputId": "d8c0fd6a-1b03-4c97-c848-90e160778d08"
      },
      "execution_count": 6,
      "outputs": [
        {
          "output_type": "execute_result",
          "data": {
            "text/plain": [
              "[{'param': 0.05, 'score': -0.0825, 'diff': 0},\n",
              " {'param': 0.1, 'score': -0.0291, 'diff': 0.0534},\n",
              " {'param': 0.15, 'score': 0.0502, 'diff': 0.07930000000000001},\n",
              " {'param': 0.2, 'score': 0.0502, 'diff': 0.0},\n",
              " {'param': 0.25, 'score': 0.0553, 'diff': 0.0051}]"
            ]
          },
          "metadata": {},
          "execution_count": 6
        }
      ]
    },
    {
      "cell_type": "code",
      "source": [
        "from matplotlib import pyplot as plt\n",
        "\n",
        "param_list = [x['param'] for x in scores]\n",
        "score_list = [x['score'] for x in scores]\n",
        "diff_list = [x['diff'] for x in scores]\n",
        "\n",
        "fig = plt.figure()\n",
        "ax = fig.add_subplot()\n",
        "ax.set_ylabel('Silhouette')\n",
        "ax.set_xlabel('Minimum inpurity gain')\n",
        "plt.plot(param_list, score_list, label = 'score')\n",
        "plt.plot(param_list, diff_list, label = 'gain')\n",
        "ax.legend()\n",
        "plt.show()"
      ],
      "metadata": {
        "colab": {
          "base_uri": "https://localhost:8080/",
          "height": 279
        },
        "id": "cHass6kdtnAe",
        "outputId": "109f2f85-193b-473a-b3fe-4e818c3df474"
      },
      "execution_count": 7,
      "outputs": [
        {
          "output_type": "display_data",
          "data": {
            "text/plain": [
              "<Figure size 432x288 with 1 Axes>"
            ],
            "image/png": "[encoded data removed]"
          },
          "metadata": {
            "needs_background": "light"
          }
        }
      ]
    },
    {
      "cell_type": "code",
      "source": [
        "scores_sorted = sorted(scores, key = lambda x: x['diff'], reverse = True)\n",
        "threshold = scores_sorted[0]['param']\n",
        "\n",
        "labels = range(0, n)\n",
        "model = DecisionTreeClassifier(criterion = 'entropy', min_impurity_decrease=threshold)\n",
        "\n",
        "model.fit(X, labels)"
      ],
      "metadata": {
        "colab": {
          "base_uri": "https://localhost:8080/"
        },
        "id": "jAv5ukTstowd",
        "outputId": "6f728bd6-e0ff-46ed-e23a-e1ae07d56e0d"
      },
      "execution_count": 8,
      "outputs": [
        {
          "output_type": "execute_result",
          "data": {
            "text/plain": [
              "DecisionTreeClassifier(criterion='entropy', min_impurity_decrease=0.55)"
            ]
          },
          "metadata": {},
          "execution_count": 8
        }
      ]
    },
    {
      "cell_type": "code",
      "source": [
        "from sklearn import tree\n",
        "import matplotlib\n",
        "\n",
        "fig = plt.figure(figsize = (25, 10))\n",
        "tree.plot_tree(model, feature_names = X.columns, impurity = False, proportion = True, rounded = True)\n",
        "plt.show()"
      ],
      "metadata": {
        "colab": {
          "base_uri": "https://localhost:8080/",
          "height": 266
        },
        "id": "pmI1i3Z9t8Xz",
        "outputId": "45c6c37c-7a30-46b4-f302-b61fac49eaa1"
      },
      "execution_count": 9,
      "outputs": [
        {
          "output_type": "display_data",
          "data": {
            "text/plain": [
              "<Figure size 1800x720 with 1 Axes>"
            ],
            "image/png": "[encoded data removed]"
          },
          "metadata": {
            "needs_background": "light"
          }
        }
      ]
    },
    {
      "cell_type": "code",
      "source": [
        "n_nodes = model.tree_.node_count\n",
        "children_left = model.tree_.children_left\n",
        "children_right = model.tree_.children_right\n",
        "features = model.tree_.feature\n",
        "thresholds = model.tree_.threshold\n",
        "\n",
        "def make_node(i):\n",
        "  node = {}\n",
        "  node['parentID'] = i\n",
        "  node['feature'] = X.columns[features[i]]\n",
        "  node['threshold'] = round(thresholds[i], 2)\n",
        "  return node\n",
        "\n",
        "nodes = []\n",
        "for i in range(0, n_nodes):\n",
        "  if children_left[i] != -1:\n",
        "    node = make_node(i)\n",
        "    node['ID'] = children_left[i]\n",
        "    node['comparsion'] = '<='\n",
        "    nodes.append(node)\n",
        "  if children_right[i] != -1:\n",
        "    node = make_node(i)\n",
        "    node['ID'] = children_right[i]\n",
        "    node['comparsion'] = '>'\n",
        "    nodes.append(node)\n",
        "nodes[:5]"
      ],
      "metadata": {
        "colab": {
          "base_uri": "https://localhost:8080/"
        },
        "id": "nOklZk2ut-Ic",
        "outputId": "e1535299-6c8e-48a3-ef0c-2c397c8946c5"
      },
      "execution_count": 10,
      "outputs": [
        {
          "output_type": "execute_result",
          "data": {
            "text/plain": [
              "[{'parentID': 0,\n",
              "  'feature': 'CGPA',\n",
              "  'threshold': 8.61,\n",
              "  'ID': 1,\n",
              "  'comparsion': '<='},\n",
              " {'parentID': 0,\n",
              "  'feature': 'CGPA',\n",
              "  'threshold': 8.61,\n",
              "  'ID': 2,\n",
              "  'comparsion': '>'}]"
            ]
          },
          "metadata": {},
          "execution_count": 10
        }
      ]
    },
    {
      "cell_type": "code",
      "source": [
        "!pip install owlready2\n",
        "from owlready2 import *\n",
        "import types\n",
        "\n",
        "onto = get_ontology('onto.owl')\n",
        "with onto:\n",
        "  for feature in X.columns:\n",
        "    onto_feature = types.new_class(feature, (DataProperty,))"
      ],
      "metadata": {
        "colab": {
          "base_uri": "https://localhost:8080/"
        },
        "id": "wO-Gu39guAh9",
        "outputId": "c6a6a975-c07d-4692-f7f5-b33671fc03c5"
      },
      "execution_count": 11,
      "outputs": [
        {
          "output_type": "stream",
          "name": "stdout",
          "text": [
            "Looking in indexes: https://pypi.org/simple, https://us-python.pkg.dev/colab-wheels/public/simple/\n",
            "Collecting owlready2\n",
            "  Downloading Owlready2-0.39.tar.gz (25.5 MB)\n",
            "\u001b[K     |████████████████████████████████| 25.5 MB 2.1 MB/s \n",
            "\u001b[?25hBuilding wheels for collected packages: owlready2\n",
            "  Building wheel for owlready2 (setup.py) ... \u001b[?25l\u001b[?25hdone\n",
            "  Created wheel for owlready2: filename=Owlready2-0.39-cp37-cp37m-linux_x86_64.whl size=22132045 sha256=9902d639ff8e6d1d040d472777361f7ce15bb74c7bfeb6ab7ff0accb3e22ce6b\n",
            "  Stored in directory: /root/.cache/pip/wheels/c9/5b/fc/da1e42a17f22cd62bfb170f847a3fb541a7f628858ad3595ec\n",
            "Successfully built owlready2\n",
            "Installing collected packages: owlready2\n",
            "Successfully installed owlready2-0.39\n"
          ]
        }
      ]
    },
    {
      "cell_type": "code",
      "source": [
        "with onto:\n",
        "  for node in nodes:\n",
        "    parent = node['parentID']\n",
        "    if parent == 0:\n",
        "      onto_parent = Thing\n",
        "    else:\n",
        "      onto_parent = onto[f'Class_{parent}']\n",
        "    onto_class = types.new_class(f'Class_{node[\"ID\"]}', (onto_parent,))\n",
        "\n",
        "    onto_feature = onto[node['feature']]\n",
        "    threshold = node['threshold']\n",
        "    if node['comparsion'] == '<=':\n",
        "      onto_class.equivalent_to.append(onto_feature.some(ConstrainedDatatype(float, max_inclusive = threshold)))\n",
        "    else:\n",
        "      onto_class.equivalent_to.append(onto_feature.some(ConstrainedDatatype(float, min_exclusive = threshold)))\n",
        "  \n",
        "onto.save('onto.owl', format = 'ntriples')"
      ],
      "metadata": {
        "id": "H7hARwlMuCiU"
      },
      "execution_count": 12,
      "outputs": []
    },
    {
      "cell_type": "code",
      "source": [
        "i = 0\n",
        "\n",
        "with onto:\n",
        "  row = X.iloc[i]\n",
        "  inst = Thing(f'inst{i}')\n",
        "  for feature in X.columns:\n",
        "    onto_feature = onto[feature]\n",
        "    onto_feature[inst].append(round(float(row[feature]), 2))"
      ],
      "metadata": {
        "id": "QeTyGm-juEid"
      },
      "execution_count": 13,
      "outputs": []
    },
    {
      "cell_type": "code",
      "source": [
        "with onto:\n",
        "  sync_reasoner_pellet()\n",
        "  print(inst.is_a)\n",
        "onto.save('onto_classified.owl', format = 'ntriples')"
      ],
      "metadata": {
        "colab": {
          "base_uri": "https://localhost:8080/"
        },
        "id": "MSbH7_0ZuGCb",
        "outputId": "4df19ed5-9255-4882-db93-57486851e6fa"
      },
      "execution_count": 14,
      "outputs": [
        {
          "output_type": "stream",
          "name": "stderr",
          "text": [
            "* Owlready2 * Running Pellet...\n",
            "    java -Xmx2000M -cp /usr/local/lib/python3.7/dist-packages/owlready2/pellet/antlr-3.2.jar:/usr/local/lib/python3.7/dist-packages/owlready2/pellet/slf4j-log4j12-1.6.4.jar:/usr/local/lib/python3.7/dist-packages/owlready2/pellet/antlr-runtime-3.2.jar:/usr/local/lib/python3.7/dist-packages/owlready2/pellet/log4j-1.2.16.jar:/usr/local/lib/python3.7/dist-packages/owlready2/pellet/xml-apis-1.4.01.jar:/usr/local/lib/python3.7/dist-packages/owlready2/pellet/jcl-over-slf4j-1.6.4.jar:/usr/local/lib/python3.7/dist-packages/owlready2/pellet/jgrapht-jdk1.5.jar:/usr/local/lib/python3.7/dist-packages/owlready2/pellet/commons-codec-1.6.jar:/usr/local/lib/python3.7/dist-packages/owlready2/pellet/pellet-2.3.1.jar:/usr/local/lib/python3.7/dist-packages/owlready2/pellet/aterm-java-1.6.jar:/usr/local/lib/python3.7/dist-packages/owlready2/pellet/httpcore-4.2.2.jar:/usr/local/lib/python3.7/dist-packages/owlready2/pellet/jena-arq-2.10.0.jar:/usr/local/lib/python3.7/dist-packages/owlready2/pellet/httpclient-4.2.3.jar:/usr/local/lib/python3.7/dist-packages/owlready2/pellet/slf4j-api-1.6.4.jar:/usr/local/lib/python3.7/dist-packages/owlready2/pellet/owlapi-distribution-3.4.3-bin.jar:/usr/local/lib/python3.7/dist-packages/owlready2/pellet/xercesImpl-2.10.0.jar:/usr/local/lib/python3.7/dist-packages/owlready2/pellet/jena-tdb-0.10.0.jar:/usr/local/lib/python3.7/dist-packages/owlready2/pellet/jena-core-2.10.0.jar:/usr/local/lib/python3.7/dist-packages/owlready2/pellet/jena-iri-0.9.5.jar pellet.Pellet realize --loader Jena --input-format N-Triples --ignore-imports /tmp/tmpa74udj3y\n"
          ]
        },
        {
          "output_type": "stream",
          "name": "stdout",
          "text": [
            "[onto.Class_2]\n"
          ]
        },
        {
          "output_type": "stream",
          "name": "stderr",
          "text": [
            "* Owlready2 * Pellet took 2.3636131286621094 seconds\n",
            "* Owlready * Reparenting onto.inst0: {owl.Thing} => {onto.Class_2}\n",
            "* Owlready * (NB: only changes on entities loaded in Python are shown, other changes are done but not listed)\n"
          ]
        }
      ]
    }
  ]
}